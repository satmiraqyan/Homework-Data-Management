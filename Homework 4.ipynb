{
  "nbformat": 4,
  "nbformat_minor": 0,
  "metadata": {
    "colab": {
      "provenance": []
    },
    "kernelspec": {
      "name": "python3",
      "display_name": "Python 3"
    },
    "language_info": {
      "name": "python"
    }
  },
  "cells": [
    {
      "cell_type": "code",
      "execution_count": 1,
      "metadata": {
        "id": "Q8rtRYu4d_7l"
      },
      "outputs": [],
      "source": [
        "import pandas as pd\n",
        "import sqlite3\n",
        "import matplotlib.pyplot as plt\n",
        "import seaborn as sns\n",
        "import plotly.express as px"
      ]
    },
    {
      "cell_type": "code",
      "source": [
        "# Step 1: Connect to the SQLite database\n",
        "# Connect to the 'movies.sqlite' database to fetch the movie data\n",
        "conn = sqlite3.connect(\"movies.sqlite\")\n",
        "cur = conn.cursor()"
      ],
      "metadata": {
        "id": "depZ19seeD7r"
      },
      "execution_count": 2,
      "outputs": []
    },
    {
      "cell_type": "code",
      "source": [
        "# Step 2: Fetch the data we'll visualize\n",
        "# Query to get the budget data for the movies (we'll use this for our visualizations)\n",
        "query = \"SELECT budget, revenue, popularity, release_date FROM movies WHERE budget IS NOT NULL AND revenue IS NOT NULL AND popularity IS NOT NULL;\"\n",
        "movie_data = pd.read_sql(query, conn)"
      ],
      "metadata": {
        "id": "dMwIjWVFeOFo"
      },
      "execution_count": null,
      "outputs": []
    },
    {
      "cell_type": "code",
      "source": [
        "# Step 3: Create a basic histogram using Matplotlib\n",
        "# A simple histogram to visualize the distribution of movie budgets\n",
        "plt.figure(figsize=(10, 6))\n",
        "plt.hist(movie_data['budget'], bins=50, color='skyblue', edgecolor='black')\n",
        "plt.title('Distribution of Movie Budgets')\n",
        "plt.xlabel('Budget ($)')\n",
        "plt.ylabel('Frequency')\n",
        "plt.grid(True)\n",
        "plt.show()"
      ],
      "metadata": {
        "id": "U8XRKvFGeeMa"
      },
      "execution_count": null,
      "outputs": []
    },
    {
      "cell_type": "markdown",
      "source": [
        "This histogram shows the distribution of movie budgets. We can see if most movies have low budgets or if there are some high-budget outliers."
      ],
      "metadata": {
        "id": "4QUggHmlejFX"
      }
    },
    {
      "cell_type": "code",
      "source": [
        "# Step 4: Create a heatmap using Seaborn\n",
        "# A heatmap to visualize the correlations between budget, revenue, and popularity\n",
        "corr = movie_data.corr()\n",
        "\n",
        "plt.figure(figsize=(8, 6))\n",
        "sns.heatmap(corr, annot=True, cmap='coolwarm', fmt='.2f', linewidths=1)\n",
        "plt.title('Correlation Heatmap of Movie Features')\n",
        "plt.show()\n"
      ],
      "metadata": {
        "id": "yH6gammgej2f"
      },
      "execution_count": null,
      "outputs": []
    },
    {
      "cell_type": "markdown",
      "source": [
        "The heatmap shows the correlation between budget, revenue, and popularity. We can identify if movies with higher budgets tend to have higher revenues or popularity."
      ],
      "metadata": {
        "id": "anmRBjetfgmY"
      }
    },
    {
      "cell_type": "code",
      "source": [
        "# Step 5: Create an interactive scatter plot using Plotly\n",
        "# We'll visualize the relationship between movie budgets and revenues, allowing the user to interact with the plot\n",
        "fig = px.scatter(movie_data, x='budget', y='revenue',\n",
        "                 title='Movie Budget vs. Revenue',\n",
        "                 labels={'budget': 'Movie Budget ($)', 'revenue': 'Movie Revenue ($)'},\n",
        "                 hover_data=['budget', 'revenue'])\n",
        "\n",
        "fig.show()"
      ],
      "metadata": {
        "id": "DFWjCLKUesg_"
      },
      "execution_count": null,
      "outputs": []
    },
    {
      "cell_type": "markdown",
      "source": [
        "This interactive scatter plot lets us explore the relationship between movie budgets and revenues. By hovering over the points, we can see individual data points and their values.\n"
      ],
      "metadata": {
        "id": "RrLFFq8We9Ii"
      }
    },
    {
      "cell_type": "code",
      "source": [
        "# Step 6: Explore additional insights (optional)\n",
        "\n",
        "# For example, visualizing the number of movies released each year:\n",
        "\n",
        "query_years = \"SELECT strftime('%Y', release_date) AS release_year, COUNT(*) AS movie_count FROM movies GROUP BY release_year ORDER BY release_year;\"\n",
        "movies_per_year = pd.read_sql(query_years, conn)\n",
        "\n",
        "plt.figure(figsize=(10, 6))\n",
        "plt.plot(movies_per_year['release_year'], movies_per_year['movie_count'], marker='o', color='green')\n",
        "plt.title('Number of Movies Released Per Year')\n",
        "plt.xlabel('Year')\n",
        "plt.ylabel('Number of Movies')\n",
        "plt.grid(True)\n",
        "plt.xticks(rotation=45)\n",
        "plt.show()\n"
      ],
      "metadata": {
        "id": "s_TPx__Te-om"
      },
      "execution_count": null,
      "outputs": []
    },
    {
      "cell_type": "markdown",
      "source": [
        "This line plot shows the number of movies released each year. It gives us insight into how movie production has changed over time.\n"
      ],
      "metadata": {
        "id": "BN1zz1InfJfx"
      }
    },
    {
      "cell_type": "code",
      "source": [
        "conn.close()"
      ],
      "metadata": {
        "id": "GEWyY2u7fP06"
      },
      "execution_count": null,
      "outputs": []
    }
  ]
}