{
  "nbformat": 4,
  "nbformat_minor": 0,
  "metadata": {
    "colab": {
      "provenance": []
    },
    "kernelspec": {
      "name": "python3",
      "display_name": "Python 3"
    },
    "language_info": {
      "name": "python"
    }
  },
  "cells": [
    {
      "cell_type": "code",
      "execution_count": null,
      "metadata": {
        "id": "JAD6R0tbcG7G"
      },
      "outputs": [],
      "source": [
        "import pandas as pd\n",
        "import sqlite3\n"
      ]
    },
    {
      "cell_type": "code",
      "source": [
        "conn = sqlite3.connect(\"movies.sqlite\")\n",
        "cur= conn.cursor()"
      ],
      "metadata": {
        "id": "EDhdQYb_cStV"
      },
      "execution_count": 8,
      "outputs": []
    },
    {
      "cell_type": "code",
      "source": [
        "query = \"SELECT name FROM sqlite_master WHERE type='table'\"\n",
        "cur.execute(query)\n",
        "cur.fetchall()"
      ],
      "metadata": {
        "colab": {
          "base_uri": "https://localhost:8080/"
        },
        "id": "uhti-dYocVIh",
        "outputId": "f26ee8e2-636f-4e34-bbbe-7cb7dfeab58b"
      },
      "execution_count": 10,
      "outputs": [
        {
          "output_type": "execute_result",
          "data": {
            "text/plain": [
              "[]"
            ]
          },
          "metadata": {},
          "execution_count": 10
        }
      ]
    },
    {
      "cell_type": "code",
      "source": [
        "query = \"SELECT name FROM sqlite_master WHERE type='table'\"\n",
        "pd.read_sql(query, conn)"
      ],
      "metadata": {
        "id": "zAQg1iuXnPtu"
      },
      "execution_count": null,
      "outputs": []
    },
    {
      "cell_type": "code",
      "source": [
        "query = \"SELECT * FROM directors LIMIT 100;\"\n",
        "pd.read_sql(query, conn)"
      ],
      "metadata": {
        "id": "Y8dfAIlonjYk"
      },
      "execution_count": null,
      "outputs": []
    },
    {
      "cell_type": "code",
      "source": [
        "query = \"PRAGMA table_info(movies)\"\n",
        "pd.read_sql(query, conn)"
      ],
      "metadata": {
        "id": "sF6GgP1vnl5b"
      },
      "execution_count": null,
      "outputs": []
    },
    {
      "cell_type": "code",
      "source": [
        "count_movies = pd.read_sql(\"SELECT COUNT(*) AS total_number FROM movies;\", conn)\n",
        "count_movies"
      ],
      "metadata": {
        "id": "AeztlZZonp9_"
      },
      "execution_count": null,
      "outputs": []
    },
    {
      "cell_type": "code",
      "source": [
        "count_movies = pd.read_sql(\"SELECT * FROM movies WHERE budget > 200000000;\", conn)\n",
        "count_movies.head()"
      ],
      "metadata": {
        "id": "syoSWjHFns3O"
      },
      "execution_count": null,
      "outputs": []
    },
    {
      "cell_type": "code",
      "source": [
        "count_movies = pd.read_sql(\"SELECT * FROM movies WHERE budget > 200000000;\", conn)\n",
        "count_movies.head()"
      ],
      "metadata": {
        "id": "eHtwSjZHnvPo"
      },
      "execution_count": null,
      "outputs": []
    },
    {
      "cell_type": "code",
      "source": [
        "query = \"SELECT id, popularity FROM movies WHERE popularity IS NOT NULL;\"\n",
        "pop_id = pd.read_sql(query, conn)\n",
        "pop_id"
      ],
      "metadata": {
        "id": "4QR22vyQn050"
      },
      "execution_count": null,
      "outputs": []
    },
    {
      "cell_type": "code",
      "source": [
        "query = \"SELECT COUNT(popularity), popularity FROM movies GROUP BY popularity \"\n",
        "popularity= pd.read_sql(query, conn)\n",
        "popularity"
      ],
      "metadata": {
        "id": "HcoZ-ra2n9Ol"
      },
      "execution_count": null,
      "outputs": []
    },
    {
      "cell_type": "code",
      "source": [
        "query = \"SELECT COUNT(popularity) as popularity_count, popularity FROM movies GROUP BY popularity\"\n",
        "popularity = pd.read_sql(query, conn)\n",
        "popularity"
      ],
      "metadata": {
        "id": "3SgcOM0goAc0"
      },
      "execution_count": null,
      "outputs": []
    },
    {
      "cell_type": "code",
      "source": [
        "query = \"SELECT AVG(popularity) AS avg_popularity, id FROM movies GROUP BY id\"\n",
        "pop_id = pd.read_sql(query, conn)\n",
        "pop_id"
      ],
      "metadata": {
        "id": "ywpUPaqqoBIF"
      },
      "execution_count": null,
      "outputs": []
    },
    {
      "cell_type": "code",
      "source": [
        "query = \"SELECT release_date, COUNT(release_date)   FROM movies GROUP BY release_date\"\n",
        "release_date = pd.read_sql(query, conn)\n",
        "release_date"
      ],
      "metadata": {
        "id": "A3JrphE5oBLr"
      },
      "execution_count": null,
      "outputs": []
    },
    {
      "cell_type": "code",
      "source": [
        "query = \"SELECT revenue FROM movies WHERE revenue BETWEEN 10000 AND 300000;\"\n",
        "output = pd.read_sql(query, conn)\n",
        "output"
      ],
      "metadata": {
        "id": "05WN_RqhoJaX"
      },
      "execution_count": null,
      "outputs": []
    },
    {
      "cell_type": "code",
      "source": [
        "query = \"SELECT AVG(budget) from movies;\"\n",
        "output = pd.read_sql(query, conn)\n",
        "output"
      ],
      "metadata": {
        "id": "iaBcg8zaoKLF"
      },
      "execution_count": null,
      "outputs": []
    },
    {
      "cell_type": "code",
      "source": [
        "query = \"SELECT budget FROM movies WHERE  budget < (SELECT AVG(revenue) from movies)\"\n",
        "output = pd.read_sql(query, conn)\n",
        "output.head()"
      ],
      "metadata": {
        "id": "R3mBFMPsoN5W"
      },
      "execution_count": null,
      "outputs": []
    },
    {
      "cell_type": "code",
      "source": [
        "query = \"SELECT * FROM movies LIMIT 3\"\n",
        "output = pd.read_sql(query, conn)\n",
        "output.head()"
      ],
      "metadata": {
        "id": "aVhR3WuaoQQ2"
      },
      "execution_count": null,
      "outputs": []
    },
    {
      "cell_type": "code",
      "source": [
        "query = \"SELECT * FROM directors LIMIT 10\"\n",
        "output = pd.read_sql(query, conn)\n",
        "output.head()"
      ],
      "metadata": {
        "id": "Rz0Tqv_8oV0g"
      },
      "execution_count": null,
      "outputs": []
    },
    {
      "cell_type": "code",
      "source": [
        "query = \"SELECT SUM(budget) FROM movies\"\n",
        "output = pd.read_sql(query, conn)\n",
        "output.head()"
      ],
      "metadata": {
        "id": "20d0sy8moYn5"
      },
      "execution_count": null,
      "outputs": []
    },
    {
      "cell_type": "code",
      "source": [
        "query = \"\"\"\n",
        "SELECT *\n",
        "FROM directors\n",
        "JOIN movies ON directors.id = movies.director_id\n",
        "WHERE gender = '2' OR gender = '1';\n",
        "\"\"\"\n",
        "output = pd.read_sql(query, conn)\n",
        "output.head()"
      ],
      "metadata": {
        "id": "LyKFZEwLobI7"
      },
      "execution_count": null,
      "outputs": []
    },
    {
      "cell_type": "code",
      "source": [
        "query = \"\"\"\n",
        "SELECT directors.name AS director_name,\n",
        "       directors.department AS director_department,\n",
        "       movies.original_title AS movie_title,\n",
        "       movies.release_date AS release_date,\n",
        "       movies.budget AS movie_budget\n",
        "FROM directors\n",
        "JOIN movies ON directors.id = movies.director_id;\n",
        "\"\"\"\n",
        "output = pd.read_sql(query, conn)\n",
        "output.head()"
      ],
      "metadata": {
        "id": "yKwNA_MIobvN"
      },
      "execution_count": null,
      "outputs": []
    },
    {
      "cell_type": "code",
      "source": [
        "query = \"\"\"\n",
        "SELECT directors.name AS director_name,\n",
        "       movies.original_title AS movie_title,\n",
        "       movies.popularity AS movie_popularity\n",
        "FROM directors\n",
        "JOIN movies ON directors.id = movies.director_id\n",
        "WHERE movies.popularity > 50;\n",
        "\"\"\"\n",
        "output = pd.read_sql(query, conn)\n",
        "output.head()"
      ],
      "metadata": {
        "id": "px0vqTrRohWG"
      },
      "execution_count": null,
      "outputs": []
    },
    {
      "cell_type": "code",
      "source": [
        "query = \"\"\"\n",
        "SELECT directors.name AS director_name,\n",
        "       AVG(movies.budget) AS average_budget\n",
        "FROM directors\n",
        "JOIN movies ON directors.id = movies.director_id\n",
        "GROUP BY directors.name;\n",
        "\"\"\"\n",
        "output = pd.read_sql(query, conn)\n",
        "output.head()"
      ],
      "metadata": {
        "id": "dcupmpQ9oh_Z"
      },
      "execution_count": null,
      "outputs": []
    },
    {
      "cell_type": "code",
      "source": [
        "query = \"\"\"\n",
        "SELECT directors.name AS director_name,\n",
        "       movies.original_title AS movie_title,\n",
        "       movies.revenue AS movie_revenue\n",
        "FROM directors\n",
        "JOIN movies ON directors.id = movies.director_id\n",
        "WHERE movies.revenue > 100000;\n",
        "\"\"\"\n",
        "output = pd.read_sql(query, conn)\n",
        "output.head()"
      ],
      "metadata": {
        "id": "gQqOUpwMolI4"
      },
      "execution_count": null,
      "outputs": []
    },
    {
      "cell_type": "code",
      "source": [
        "query = \"\"\"\n",
        "SELECT directors.name AS director_name,\n",
        "       directors.gender AS director_gender,\n",
        "       movies.original_title AS movie_title,\n",
        "       movies.release_date AS release_date\n",
        "FROM directors\n",
        "JOIN movies ON directors.id = movies.director_id;\n",
        "\"\"\"\n",
        "output = pd.read_sql(query, conn)\n",
        "output.head()"
      ],
      "metadata": {
        "id": "EMDHa26_oof5"
      },
      "execution_count": null,
      "outputs": []
    },
    {
      "cell_type": "code",
      "source": [
        "query = \"\"\"\n",
        "SELECT directors.name AS director_name,\n",
        "       SUM(movies.revenue) AS total_revenue\n",
        "FROM directors\n",
        "JOIN movies ON directors.id = movies.director_id\n",
        "GROUP BY directors.name;\n",
        "\"\"\"\n",
        "output = pd.read_sql(query, conn)\n",
        "output.head()"
      ],
      "metadata": {
        "id": "kemXDQmtorZy"
      },
      "execution_count": null,
      "outputs": []
    }
  ]
}